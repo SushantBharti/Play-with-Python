{
 "cells": [
  {
   "cell_type": "code",
   "execution_count": 4,
   "metadata": {},
   "outputs": [],
   "source": [
    "import pandas as pd\n",
    "import numpy as np\n",
    "import math\n",
    "from IPython.display import Markdown, display\n",
    "from scipy.stats import skew\n",
    "import seaborn as sns\n",
    "import matplotlib.pyplot as plt    \n",
    "from dataHack import removeColl \n",
    "%matplotlib inline\n",
    "import warnings\n",
    "import scipy\n",
    "warnings.filterwarnings('ignore')\n",
    "%load_ext autotime\n",
    "def printmd(string):\n",
    "    display(Markdown(string))\n"
   ]
  },
  {
   "cell_type": "code",
   "execution_count": 5,
   "metadata": {},
   "outputs": [
    {
     "name": "stdout",
     "output_type": "stream",
     "text": [
      "time: 184 ms\n"
     ]
    }
   ],
   "source": [
    "response =pd.read_csv('responses.csv')"
   ]
  },
  {
   "cell_type": "code",
   "execution_count": 6,
   "metadata": {},
   "outputs": [
    {
     "name": "stdout",
     "output_type": "stream",
     "text": [
      "<class 'pandas.core.frame.DataFrame'>\n",
      "RangeIndex: 1010 entries, 0 to 1009\n",
      "Columns: 150 entries, Music to House - block of flats\n",
      "dtypes: float64(134), int64(5), object(11)\n",
      "memory usage: 1.2+ MB\n",
      "time: 100 ms\n"
     ]
    }
   ],
   "source": [
    "response.info()"
   ]
  },
  {
   "cell_type": "code",
   "execution_count": 7,
   "metadata": {},
   "outputs": [
    {
     "name": "stdout",
     "output_type": "stream",
     "text": [
      "time: 46 ms\n"
     ]
    }
   ],
   "source": [
    "columns=pd.read_csv('columns.csv')"
   ]
  },
  {
   "cell_type": "code",
   "execution_count": 8,
   "metadata": {},
   "outputs": [
    {
     "data": {
      "text/html": [
       "<div>\n",
       "<table border=\"1\" class=\"dataframe\">\n",
       "  <thead>\n",
       "    <tr style=\"text-align: right;\">\n",
       "      <th></th>\n",
       "      <th>original</th>\n",
       "      <th>short</th>\n",
       "    </tr>\n",
       "  </thead>\n",
       "  <tbody>\n",
       "    <tr>\n",
       "      <th>0</th>\n",
       "      <td>I enjoy listening to music.</td>\n",
       "      <td>Music</td>\n",
       "    </tr>\n",
       "    <tr>\n",
       "      <th>1</th>\n",
       "      <td>I prefer.</td>\n",
       "      <td>Slow songs or fast songs</td>\n",
       "    </tr>\n",
       "    <tr>\n",
       "      <th>2</th>\n",
       "      <td>Dance, Disco, Funk</td>\n",
       "      <td>Dance</td>\n",
       "    </tr>\n",
       "    <tr>\n",
       "      <th>3</th>\n",
       "      <td>Folk music</td>\n",
       "      <td>Folk</td>\n",
       "    </tr>\n",
       "    <tr>\n",
       "      <th>4</th>\n",
       "      <td>Country</td>\n",
       "      <td>Country</td>\n",
       "    </tr>\n",
       "    <tr>\n",
       "      <th>5</th>\n",
       "      <td>Classical</td>\n",
       "      <td>Classical music</td>\n",
       "    </tr>\n",
       "    <tr>\n",
       "      <th>6</th>\n",
       "      <td>Musicals</td>\n",
       "      <td>Musical</td>\n",
       "    </tr>\n",
       "  </tbody>\n",
       "</table>\n",
       "</div>"
      ],
      "text/plain": [
       "                      original                     short\n",
       "0  I enjoy listening to music.                     Music\n",
       "1                    I prefer.  Slow songs or fast songs\n",
       "2           Dance, Disco, Funk                     Dance\n",
       "3                   Folk music                      Folk\n",
       "4                      Country                   Country\n",
       "5                    Classical           Classical music\n",
       "6                     Musicals                   Musical"
      ]
     },
     "execution_count": 8,
     "metadata": {},
     "output_type": "execute_result"
    },
    {
     "name": "stdout",
     "output_type": "stream",
     "text": [
      "time: 270 ms\n"
     ]
    }
   ],
   "source": [
    "columns.head(7)"
   ]
  },
  {
   "cell_type": "code",
   "execution_count": null,
   "metadata": {
    "collapsed": true
   },
   "outputs": [],
   "source": []
  },
  {
   "cell_type": "code",
   "execution_count": 9,
   "metadata": {},
   "outputs": [
    {
     "name": "stdout",
     "output_type": "stream",
     "text": [
      "time: 17 ms\n"
     ]
    }
   ],
   "source": [
    "musicPreference = response.ix[:,0:19 ]\n",
    "moviePreferences = response.ix[:,19:31] \n",
    "hobbiesAndInterests =response.ix[:, 31:63 ]\n",
    "phobia =response.ix[:,63:73 ]\n",
    "healthhabits= response.ix[:,73:76 ]\n",
    "personalityTraits=response.ix[:, 76:133 ]\n",
    "spendingHabits =response.ix[:, 133:140 ]\n",
    "demographics =response.ix[:,140:150]"
   ]
  },
  {
   "cell_type": "code",
   "execution_count": 10,
   "metadata": {},
   "outputs": [
    {
     "data": {
      "text/plain": [
       "<matplotlib.text.Text at 0xb449da0>"
      ]
     },
     "execution_count": 10,
     "metadata": {},
     "output_type": "execute_result"
    },
    {
     "data": {
      "image/png": "[encoded data removed]",
      "text/plain": [
       "<matplotlib.figure.Figure at 0xb2132e8>"
      ]
     },
     "metadata": {},
     "output_type": "display_data"
    },
    {
     "name": "stdout",
     "output_type": "stream",
     "text": [
      "time: 646 ms\n"
     ]
    }
   ],
   "source": [
    "#Everyone loves movies & music, right?\n",
    "fig, (ax1, ax2) = plt.subplots(1,2, figsize=(8,3), sharey=True)\n",
    "\n",
    "sns.countplot(response['Movies'], ax=ax1)\n",
    "ax1.set_xlim(.5,5.5)\n",
    "\n",
    "sns.countplot(response['Music'], ax=ax2, palette='hls')\n",
    "ax2.set_xlim(.5,5.5)\n",
    "ax2.set_ylabel('')"
   ]
  },
  {
   "cell_type": "code",
   "execution_count": null,
   "metadata": {
    "collapsed": true
   },
   "outputs": [],
   "source": []
  },
  {
   "cell_type": "code",
   "execution_count": null,
   "metadata": {
    "collapsed": true
   },
   "outputs": [],
   "source": []
  },
  {
   "cell_type": "code",
   "execution_count": 11,
   "metadata": {},
   "outputs": [
    {
     "name": "stdout",
     "output_type": "stream",
     "text": [
      "time: 1e+03 µs\n"
     ]
    }
   ],
   "source": [
    "#Ttable(musicPreference,'Dance','Alternative')#.unstack()"
   ]
  },
  {
   "cell_type": "code",
   "execution_count": 12,
   "metadata": {},
   "outputs": [
    {
     "data": {
      "text/markdown": [
       "### 0.99504950495"
      ],
      "text/plain": [
       "<IPython.core.display.Markdown object>"
      ]
     },
     "metadata": {},
     "output_type": "display_data"
    },
    {
     "name": "stdout",
     "output_type": "stream",
     "text": [
      "time: 67 ms\n"
     ]
    }
   ],
   "source": [
    "printmd('### '+str(1.0 * musicPreference.count().sum() / musicPreference.size))"
   ]
  },
  {
   "cell_type": "code",
   "execution_count": 13,
   "metadata": {},
   "outputs": [
    {
     "data": {
      "text/plain": [
       "95"
      ]
     },
     "execution_count": 13,
     "metadata": {},
     "output_type": "execute_result"
    },
    {
     "name": "stdout",
     "output_type": "stream",
     "text": [
      "time: 77 ms\n"
     ]
    }
   ],
   "source": [
    "musicPreference.size-musicPreference.count().sum()"
   ]
  },
  {
   "cell_type": "code",
   "execution_count": 14,
   "metadata": {},
   "outputs": [
    {
     "name": "stdout",
     "output_type": "stream",
     "text": [
      "Music  -  3\n",
      "Slow songs or fast songs  -  2\n",
      "Dance  -  4\n",
      "Folk  -  5\n",
      "Country  -  5\n",
      "Classical music  -  7\n",
      "Musical  -  2\n",
      "Pop  -  3\n",
      "Rock  -  6\n",
      "Metal or Hardrock  -  3\n",
      "Punk  -  8\n",
      "Hiphop, Rap  -  4\n",
      "Reggae, Ska  -  7\n",
      "Swing, Jazz  -  6\n",
      "Rock n roll  -  7\n",
      "Alternative  -  7\n",
      "Latino  -  8\n",
      "Techno, Trance  -  7\n",
      "Opera  -  1\n",
      "time: 116 ms\n"
     ]
    }
   ],
   "source": [
    "null_coll= musicPreference.columns[pd.isnull(musicPreference).any()].values.tolist()\n",
    "x=0\n",
    "for i in null_coll: \n",
    "    print i,' - ',len(musicPreference[musicPreference[i].isnull()])\n",
    "    x=x+len(musicPreference[musicPreference[i].isnull()])"
   ]
  },
  {
   "cell_type": "markdown",
   "metadata": {},
   "source": [
    "## Analyzing musicPreferences"
   ]
  },
  {
   "cell_type": "code",
   "execution_count": 15,
   "metadata": {},
   "outputs": [
    {
     "name": "stdout",
     "output_type": "stream",
     "text": [
      "time: 140 ms\n"
     ]
    }
   ],
   "source": [
    "musicPreference=musicPreference.fillna(musicPreference.mode().iloc[0])\n",
    "    "
   ]
  },
  {
   "cell_type": "code",
   "execution_count": 16,
   "metadata": {},
   "outputs": [
    {
     "name": "stdout",
     "output_type": "stream",
     "text": [
      "time: 58 ms\n"
     ]
    }
   ],
   "source": [
    "#musicPreference.to_csv('musicPreference.csv',index=False)"
   ]
  },
  {
   "cell_type": "code",
   "execution_count": 17,
   "metadata": {},
   "outputs": [
    {
     "name": "stdout",
     "output_type": "stream",
     "text": [
      "time: 86 ms\n"
     ]
    }
   ],
   "source": [
    "def corrlist(data):\n",
    "    feat=data.columns.tolist()\n",
    "    corrmat=np.array(data.corr())\n",
    "    for i in range(len(corrmat)):\n",
    "        for j in range(len(corrmat)):\n",
    "            if j>i :\n",
    "                corrmat[i][j]=2\n",
    "    corrFrame= pd.DataFrame(pd.DataFrame(corrmat,columns=feat,index=feat).unstack()).reset_index()\n",
    "    print plt.matshow(corrmat)\n",
    "    del corrmat\n",
    "    corrFrame=corrFrame[corrFrame[0]<=1].rename(columns={0:'corr'})\n",
    "    return corrFrame"
   ]
  },
  {
   "cell_type": "code",
   "execution_count": 18,
   "metadata": {},
   "outputs": [
    {
     "name": "stdout",
     "output_type": "stream",
     "text": [
      "AxesImage(60,36;310x310)\n"
     ]
    },
    {
     "data": {
      "image/png": "[encoded data removed]",
      "text/plain": [
       "<matplotlib.figure.Figure at 0xb0e1978>"
      ]
     },
     "metadata": {},
     "output_type": "display_data"
    },
    {
     "name": "stdout",
     "output_type": "stream",
     "text": [
      "time: 278 ms\n"
     ]
    }
   ],
   "source": [
    "zc= corrlist(musicPreference)\n"
   ]
  },
  {
   "cell_type": "code",
   "execution_count": null,
   "metadata": {
    "collapsed": true
   },
   "outputs": [],
   "source": []
  },
  {
   "cell_type": "code",
   "execution_count": 19,
   "metadata": {},
   "outputs": [
    {
     "name": "stdout",
     "output_type": "stream",
     "text": [
      "time: 5 ms\n"
     ]
    }
   ],
   "source": [
    "musicPreference.drop('Music',1,inplace=True)"
   ]
  },
  {
   "cell_type": "code",
   "execution_count": null,
   "metadata": {
    "collapsed": true
   },
   "outputs": [],
   "source": []
  },
  {
   "cell_type": "code",
   "execution_count": 20,
   "metadata": {},
   "outputs": [
    {
     "name": "stdout",
     "output_type": "stream",
     "text": [
      "time: 121 ms\n"
     ]
    }
   ],
   "source": [
    "supportDict = {}\n",
    "for column in musicPreference.columns:\n",
    "    for i in range(1,6):\n",
    "        supportDict[column+'_'+str(i)] = sum(musicPreference[column]==i)\n",
    " \n",
    "# visualise support\n"
   ]
  },
  {
   "cell_type": "code",
   "execution_count": 21,
   "metadata": {},
   "outputs": [
    {
     "name": "stdout",
     "output_type": "stream",
     "text": [
      "time: 72 ms\n"
     ]
    }
   ],
   "source": [
    "#supportDict"
   ]
  },
  {
   "cell_type": "code",
   "execution_count": 22,
   "metadata": {},
   "outputs": [
    {
     "name": "stdout",
     "output_type": "stream",
     "text": [
      "time: 156 ms\n"
     ]
    }
   ],
   "source": [
    "itemset_1=pd.DataFrame(supportDict.values(),index=supportDict.keys(),columns={'support'}).sort_values('support')#,ascending=False)"
   ]
  },
  {
   "cell_type": "markdown",
   "metadata": {},
   "source": [
    "### 1-itemset frequency"
   ]
  },
  {
   "cell_type": "code",
   "execution_count": 23,
   "metadata": {},
   "outputs": [
    {
     "data": {
      "text/plain": [
       "<matplotlib.axes._subplots.AxesSubplot at 0xc648be0>"
      ]
     },
     "execution_count": 23,
     "metadata": {},
     "output_type": "execute_result"
    },
    {
     "data": {
      "image/png": "[encoded data removed]",
      "text/plain": [
       "<matplotlib.figure.Figure at 0xc3637f0>"
      ]
     },
     "metadata": {},
     "output_type": "display_data"
    },
    {
     "name": "stdout",
     "output_type": "stream",
     "text": [
      "time: 387 ms\n"
     ]
    }
   ],
   "source": [
    "itemset_1.tail(10).plot(kind=\"barh\")\n"
   ]
  },
  {
   "cell_type": "code",
   "execution_count": 24,
   "metadata": {},
   "outputs": [
    {
     "data": {
      "text/plain": [
       "['Dance_3',\n",
       " 'Punk_1',\n",
       " 'Folk_2',\n",
       " 'Country_1',\n",
       " 'Rock_5',\n",
       " 'Country_2',\n",
       " 'Techno, Trance_1',\n",
       " 'Metal or Hardrock_1',\n",
       " 'Opera_1',\n",
       " 'Slow songs or fast songs_3']"
      ]
     },
     "execution_count": 24,
     "metadata": {},
     "output_type": "execute_result"
    },
    {
     "name": "stdout",
     "output_type": "stream",
     "text": [
      "time: 6 ms\n"
     ]
    }
   ],
   "source": [
    "itemset_1.tail(10).index.tolist()"
   ]
  },
  {
   "cell_type": "code",
   "execution_count": 25,
   "metadata": {},
   "outputs": [
    {
     "name": "stdout",
     "output_type": "stream",
     "text": [
      "time: 225 ms\n"
     ]
    }
   ],
   "source": [
    "supportDict = {}\n",
    "for column1 in itemset_1.tail(10).index.tolist():\n",
    "   \n",
    "    for column2 in itemset_1.tail(10).index.tolist():\n",
    "        if column2==column1:\n",
    "            continue\n",
    "        supportDict[column2+'_'+column1] =  len(musicPreference[(musicPreference[column1.split('_')[0]]==int(column1.split('_')[1]))&(musicPreference[column2.split('_')[0]]==int(column2.split('_')[1]))][[column1.split('_')[0],column2.split('_')[0]]]) \n",
    "# visualise support\n"
   ]
  },
  {
   "cell_type": "code",
   "execution_count": 26,
   "metadata": {},
   "outputs": [
    {
     "name": "stdout",
     "output_type": "stream",
     "text": [
      "time: 4 ms\n"
     ]
    }
   ],
   "source": [
    "itemset_2=pd.DataFrame(supportDict.values(),index=supportDict.keys(),columns={'support'}).sort_values('support')"
   ]
  },
  {
   "cell_type": "markdown",
   "metadata": {},
   "source": [
    "### 2-itemset frequency"
   ]
  },
  {
   "cell_type": "code",
   "execution_count": 27,
   "metadata": {},
   "outputs": [
    {
     "data": {
      "text/plain": [
       "<matplotlib.axes._subplots.AxesSubplot at 0xc734860>"
      ]
     },
     "execution_count": 27,
     "metadata": {},
     "output_type": "execute_result"
    },
    {
     "data": {
      "image/png": "[encoded data removed]",
      "text/plain": [
       "<matplotlib.figure.Figure at 0xc722c50>"
      ]
     },
     "metadata": {},
     "output_type": "display_data"
    },
    {
     "name": "stdout",
     "output_type": "stream",
     "text": [
      "time: 349 ms\n"
     ]
    }
   ],
   "source": [
    "itemset_2.tail(10).plot(kind=\"barh\")"
   ]
  },
  {
   "cell_type": "code",
   "execution_count": 28,
   "metadata": {},
   "outputs": [
    {
     "name": "stdout",
     "output_type": "stream",
     "text": [
      "time: 12 ms\n"
     ]
    }
   ],
   "source": [
    "from apriori import apriori, generateRules"
   ]
  },
  {
   "cell_type": "code",
   "execution_count": 29,
   "metadata": {},
   "outputs": [
    {
     "name": "stdout",
     "output_type": "stream",
     "text": [
      "brl: []\n",
      "time: 3 ms\n"
     ]
    }
   ],
   "source": [
    "L,supportData=apriori(musicPreference,0.7)\n",
    "brl=generateRules(L, supportData,0.7)\n",
    "print 'brl:',brl\n"
   ]
  },
  {
   "cell_type": "code",
   "execution_count": null,
   "metadata": {},
   "outputs": [],
   "source": []
  },
  {
   "cell_type": "code",
   "execution_count": null,
   "metadata": {
    "collapsed": true
   },
   "outputs": [],
   "source": []
  }
 ],
 "metadata": {
  "kernelspec": {
   "display_name": "Python [Root]",
   "language": "python",
   "name": "Python [Root]"
  },
  "language_info": {
   "codemirror_mode": {
    "name": "ipython",
    "version": 2
   },
   "file_extension": ".py",
   "mimetype": "text/x-python",
   "name": "python",
   "nbconvert_exporter": "python",
   "pygments_lexer": "ipython2",
   "version": "2.7.12"
  }
 },
 "nbformat": 4,
 "nbformat_minor": 1
}
